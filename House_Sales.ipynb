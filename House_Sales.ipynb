{
    "cells": [
        {
            "cell_type": "markdown",
            "metadata": {},
            "source": " <a href=\"https://www.bigdatauniversity.com\"><img src = \"https://ibm.box.com/shared/static/ugcqz6ohbvff804xp84y4kqnvvk3bq1g.png\" width = 300, align = \"center\"></a>\n\n<h1 align=center><font size = 5>Data Analysis with Python</font></h1>"
        },
        {
            "cell_type": "markdown",
            "metadata": {},
            "source": "# House Sales in King County, USA"
        },
        {
            "cell_type": "markdown",
            "metadata": {},
            "source": "This dataset contains house sale prices for King County, which includes Seattle. It includes homes sold between May 2014 and May 2015."
        },
        {
            "cell_type": "markdown",
            "metadata": {},
            "source": "<b>id</b> : A notation for a house\n\n<b> date</b>: Date house was sold\n\n\n<b>price</b>: Price is prediction target\n\n\n<b>bedrooms</b>: Number of bedrooms\n\n\n<b>bathrooms</b>: Number of bathrooms\n\n<b>sqft_living</b>: Square footage of the home\n\n<b>sqft_lot</b>: Square footage of the lot\n\n\n<b>floors</b> :Total floors (levels) in house\n\n\n<b>waterfront</b> :House which has a view to a waterfront\n\n\n<b>view</b>: Has been viewed\n\n\n<b>condition</b> :How good the condition is overall\n\n<b>grade</b>: overall grade given to the housing unit, based on King County grading system\n\n\n<b>sqft_above</b> : Square footage of house apart from basement\n\n\n<b>sqft_basement</b>: Square footage of the basement\n\n<b>yr_built</b> : Built Year\n\n\n<b>yr_renovated</b> : Year when house was renovated\n\n<b>zipcode</b>: Zip code\n\n\n<b>lat</b>: Latitude coordinate\n\n<b>long</b>: Longitude coordinate\n\n<b>sqft_living15</b> : Living room area in 2015(implies-- some renovations) This might or might not have affected the lotsize area\n\n\n<b>sqft_lot15</b> : LotSize area in 2015(implies-- some renovations)"
        },
        {
            "cell_type": "markdown",
            "metadata": {},
            "source": "You will require the following libraries: "
        },
        {
            "cell_type": "code",
            "execution_count": null,
            "metadata": {},
            "outputs": [],
            "source": "import pandas as pd\nimport matplotlib.pyplot as plt\nimport numpy as np\nimport seaborn as sns\nfrom sklearn.pipeline import Pipeline\nfrom sklearn.preprocessing import StandardScaler,PolynomialFeatures\nfrom sklearn.linear_model import LinearRegression\n%matplotlib inline"
        },
        {
            "cell_type": "markdown",
            "metadata": {},
            "source": "# Module 1: Importing Data Sets "
        },
        {
            "cell_type": "markdown",
            "metadata": {},
            "source": " Load the csv:  "
        },
        {
            "cell_type": "code",
            "execution_count": 34,
            "metadata": {
                "jupyter": {
                    "outputs_hidden": false
                }
            },
            "outputs": [],
            "source": "file_name='https://s3-api.us-geo.objectstorage.softlayer.net/cf-courses-data/CognitiveClass/DA0101EN/coursera/project/kc_house_data_NaN.csv'\ndf=pd.read_csv(file_name)"
        },
        {
            "cell_type": "markdown",
            "metadata": {},
            "source": "\nWe use the method <code>head</code> to display the first 5 columns of the dataframe."
        },
        {
            "cell_type": "code",
            "execution_count": 33,
            "metadata": {},
            "outputs": [
                {
                    "data": {
                        "text/html": "<div>\n<style scoped>\n    .dataframe tbody tr th:only-of-type {\n        vertical-align: middle;\n    }\n\n    .dataframe tbody tr th {\n        vertical-align: top;\n    }\n\n    .dataframe thead th {\n        text-align: right;\n    }\n</style>\n<table border=\"1\" class=\"dataframe\">\n  <thead>\n    <tr style=\"text-align: right;\">\n      <th></th>\n      <th>Unnamed: 0</th>\n      <th>id</th>\n      <th>date</th>\n      <th>price</th>\n      <th>bedrooms</th>\n      <th>bathrooms</th>\n      <th>sqft_living</th>\n      <th>sqft_lot</th>\n      <th>floors</th>\n      <th>waterfront</th>\n      <th>...</th>\n      <th>grade</th>\n      <th>sqft_above</th>\n      <th>sqft_basement</th>\n      <th>yr_built</th>\n      <th>yr_renovated</th>\n      <th>zipcode</th>\n      <th>lat</th>\n      <th>long</th>\n      <th>sqft_living15</th>\n      <th>sqft_lot15</th>\n    </tr>\n  </thead>\n  <tbody>\n    <tr>\n      <th>0</th>\n      <td>0</td>\n      <td>7129300520</td>\n      <td>20141013T000000</td>\n      <td>221900.0</td>\n      <td>3.0</td>\n      <td>1.00</td>\n      <td>1180</td>\n      <td>5650</td>\n      <td>1.0</td>\n      <td>0</td>\n      <td>...</td>\n      <td>7</td>\n      <td>1180</td>\n      <td>0</td>\n      <td>1955</td>\n      <td>0</td>\n      <td>98178</td>\n      <td>47.5112</td>\n      <td>-122.257</td>\n      <td>1340</td>\n      <td>5650</td>\n    </tr>\n    <tr>\n      <th>1</th>\n      <td>1</td>\n      <td>6414100192</td>\n      <td>20141209T000000</td>\n      <td>538000.0</td>\n      <td>3.0</td>\n      <td>2.25</td>\n      <td>2570</td>\n      <td>7242</td>\n      <td>2.0</td>\n      <td>0</td>\n      <td>...</td>\n      <td>7</td>\n      <td>2170</td>\n      <td>400</td>\n      <td>1951</td>\n      <td>1991</td>\n      <td>98125</td>\n      <td>47.7210</td>\n      <td>-122.319</td>\n      <td>1690</td>\n      <td>7639</td>\n    </tr>\n    <tr>\n      <th>2</th>\n      <td>2</td>\n      <td>5631500400</td>\n      <td>20150225T000000</td>\n      <td>180000.0</td>\n      <td>2.0</td>\n      <td>1.00</td>\n      <td>770</td>\n      <td>10000</td>\n      <td>1.0</td>\n      <td>0</td>\n      <td>...</td>\n      <td>6</td>\n      <td>770</td>\n      <td>0</td>\n      <td>1933</td>\n      <td>0</td>\n      <td>98028</td>\n      <td>47.7379</td>\n      <td>-122.233</td>\n      <td>2720</td>\n      <td>8062</td>\n    </tr>\n    <tr>\n      <th>3</th>\n      <td>3</td>\n      <td>2487200875</td>\n      <td>20141209T000000</td>\n      <td>604000.0</td>\n      <td>4.0</td>\n      <td>3.00</td>\n      <td>1960</td>\n      <td>5000</td>\n      <td>1.0</td>\n      <td>0</td>\n      <td>...</td>\n      <td>7</td>\n      <td>1050</td>\n      <td>910</td>\n      <td>1965</td>\n      <td>0</td>\n      <td>98136</td>\n      <td>47.5208</td>\n      <td>-122.393</td>\n      <td>1360</td>\n      <td>5000</td>\n    </tr>\n    <tr>\n      <th>4</th>\n      <td>4</td>\n      <td>1954400510</td>\n      <td>20150218T000000</td>\n      <td>510000.0</td>\n      <td>3.0</td>\n      <td>2.00</td>\n      <td>1680</td>\n      <td>8080</td>\n      <td>1.0</td>\n      <td>0</td>\n      <td>...</td>\n      <td>8</td>\n      <td>1680</td>\n      <td>0</td>\n      <td>1987</td>\n      <td>0</td>\n      <td>98074</td>\n      <td>47.6168</td>\n      <td>-122.045</td>\n      <td>1800</td>\n      <td>7503</td>\n    </tr>\n  </tbody>\n</table>\n<p>5 rows \u00d7 22 columns</p>\n</div>",
                        "text/plain": "   Unnamed: 0          id             date     price  bedrooms  bathrooms  \\\n0           0  7129300520  20141013T000000  221900.0       3.0       1.00   \n1           1  6414100192  20141209T000000  538000.0       3.0       2.25   \n2           2  5631500400  20150225T000000  180000.0       2.0       1.00   \n3           3  2487200875  20141209T000000  604000.0       4.0       3.00   \n4           4  1954400510  20150218T000000  510000.0       3.0       2.00   \n\n   sqft_living  sqft_lot  floors  waterfront  ...  grade  sqft_above  \\\n0         1180      5650     1.0           0  ...      7        1180   \n1         2570      7242     2.0           0  ...      7        2170   \n2          770     10000     1.0           0  ...      6         770   \n3         1960      5000     1.0           0  ...      7        1050   \n4         1680      8080     1.0           0  ...      8        1680   \n\n   sqft_basement  yr_built  yr_renovated  zipcode      lat     long  \\\n0              0      1955             0    98178  47.5112 -122.257   \n1            400      1951          1991    98125  47.7210 -122.319   \n2              0      1933             0    98028  47.7379 -122.233   \n3            910      1965             0    98136  47.5208 -122.393   \n4              0      1987             0    98074  47.6168 -122.045   \n\n   sqft_living15  sqft_lot15  \n0           1340        5650  \n1           1690        7639  \n2           2720        8062  \n3           1360        5000  \n4           1800        7503  \n\n[5 rows x 22 columns]"
                    },
                    "execution_count": 33,
                    "metadata": {},
                    "output_type": "execute_result"
                }
            ],
            "source": "df.head()"
        },
        {
            "cell_type": "markdown",
            "metadata": {},
            "source": "### Question 1 \nDisplay the data types of each column using the attribute dtype, then take a screenshot and submit it, include your code in the image. "
        },
        {
            "cell_type": "code",
            "execution_count": 6,
            "metadata": {
                "jupyter": {
                    "outputs_hidden": false
                }
            },
            "outputs": [
                {
                    "data": {
                        "text/plain": "Unnamed: 0         int64\nid                 int64\ndate              object\nprice            float64\nbedrooms         float64\nbathrooms        float64\nsqft_living        int64\nsqft_lot           int64\nfloors           float64\nwaterfront         int64\nview               int64\ncondition          int64\ngrade              int64\nsqft_above         int64\nsqft_basement      int64\nyr_built           int64\nyr_renovated       int64\nzipcode            int64\nlat              float64\nlong             float64\nsqft_living15      int64\nsqft_lot15         int64\ndtype: object"
                    },
                    "execution_count": 6,
                    "metadata": {},
                    "output_type": "execute_result"
                }
            ],
            "source": "import pandas as pd\nfile_name='https://s3-api.us-geo.objectstorage.softlayer.net/cf-courses-data/CognitiveClass/DA0101EN/coursera/project/kc_house_data_NaN.csv'\ndf=pd.read_csv(file_name)\ndf.dtypes\n\n\n"
        },
        {
            "cell_type": "markdown",
            "metadata": {},
            "source": "We use the method describe to obtain a statistical summary of the dataframe."
        },
        {
            "cell_type": "code",
            "execution_count": 7,
            "metadata": {
                "jupyter": {
                    "outputs_hidden": false
                }
            },
            "outputs": [
                {
                    "data": {
                        "text/html": "<div>\n<style scoped>\n    .dataframe tbody tr th:only-of-type {\n        vertical-align: middle;\n    }\n\n    .dataframe tbody tr th {\n        vertical-align: top;\n    }\n\n    .dataframe thead th {\n        text-align: right;\n    }\n</style>\n<table border=\"1\" class=\"dataframe\">\n  <thead>\n    <tr style=\"text-align: right;\">\n      <th></th>\n      <th>Unnamed: 0</th>\n      <th>id</th>\n      <th>price</th>\n      <th>bedrooms</th>\n      <th>bathrooms</th>\n      <th>sqft_living</th>\n      <th>sqft_lot</th>\n      <th>floors</th>\n      <th>waterfront</th>\n      <th>view</th>\n      <th>...</th>\n      <th>grade</th>\n      <th>sqft_above</th>\n      <th>sqft_basement</th>\n      <th>yr_built</th>\n      <th>yr_renovated</th>\n      <th>zipcode</th>\n      <th>lat</th>\n      <th>long</th>\n      <th>sqft_living15</th>\n      <th>sqft_lot15</th>\n    </tr>\n  </thead>\n  <tbody>\n    <tr>\n      <th>count</th>\n      <td>21613.00000</td>\n      <td>2.161300e+04</td>\n      <td>2.161300e+04</td>\n      <td>21600.000000</td>\n      <td>21603.000000</td>\n      <td>21613.000000</td>\n      <td>2.161300e+04</td>\n      <td>21613.000000</td>\n      <td>21613.000000</td>\n      <td>21613.000000</td>\n      <td>...</td>\n      <td>21613.000000</td>\n      <td>21613.000000</td>\n      <td>21613.000000</td>\n      <td>21613.000000</td>\n      <td>21613.000000</td>\n      <td>21613.000000</td>\n      <td>21613.000000</td>\n      <td>21613.000000</td>\n      <td>21613.000000</td>\n      <td>21613.000000</td>\n    </tr>\n    <tr>\n      <th>mean</th>\n      <td>10806.00000</td>\n      <td>4.580302e+09</td>\n      <td>5.400881e+05</td>\n      <td>3.372870</td>\n      <td>2.115736</td>\n      <td>2079.899736</td>\n      <td>1.510697e+04</td>\n      <td>1.494309</td>\n      <td>0.007542</td>\n      <td>0.234303</td>\n      <td>...</td>\n      <td>7.656873</td>\n      <td>1788.390691</td>\n      <td>291.509045</td>\n      <td>1971.005136</td>\n      <td>84.402258</td>\n      <td>98077.939805</td>\n      <td>47.560053</td>\n      <td>-122.213896</td>\n      <td>1986.552492</td>\n      <td>12768.455652</td>\n    </tr>\n    <tr>\n      <th>std</th>\n      <td>6239.28002</td>\n      <td>2.876566e+09</td>\n      <td>3.671272e+05</td>\n      <td>0.926657</td>\n      <td>0.768996</td>\n      <td>918.440897</td>\n      <td>4.142051e+04</td>\n      <td>0.539989</td>\n      <td>0.086517</td>\n      <td>0.766318</td>\n      <td>...</td>\n      <td>1.175459</td>\n      <td>828.090978</td>\n      <td>442.575043</td>\n      <td>29.373411</td>\n      <td>401.679240</td>\n      <td>53.505026</td>\n      <td>0.138564</td>\n      <td>0.140828</td>\n      <td>685.391304</td>\n      <td>27304.179631</td>\n    </tr>\n    <tr>\n      <th>min</th>\n      <td>0.00000</td>\n      <td>1.000102e+06</td>\n      <td>7.500000e+04</td>\n      <td>1.000000</td>\n      <td>0.500000</td>\n      <td>290.000000</td>\n      <td>5.200000e+02</td>\n      <td>1.000000</td>\n      <td>0.000000</td>\n      <td>0.000000</td>\n      <td>...</td>\n      <td>1.000000</td>\n      <td>290.000000</td>\n      <td>0.000000</td>\n      <td>1900.000000</td>\n      <td>0.000000</td>\n      <td>98001.000000</td>\n      <td>47.155900</td>\n      <td>-122.519000</td>\n      <td>399.000000</td>\n      <td>651.000000</td>\n    </tr>\n    <tr>\n      <th>25%</th>\n      <td>5403.00000</td>\n      <td>2.123049e+09</td>\n      <td>3.219500e+05</td>\n      <td>3.000000</td>\n      <td>1.750000</td>\n      <td>1427.000000</td>\n      <td>5.040000e+03</td>\n      <td>1.000000</td>\n      <td>0.000000</td>\n      <td>0.000000</td>\n      <td>...</td>\n      <td>7.000000</td>\n      <td>1190.000000</td>\n      <td>0.000000</td>\n      <td>1951.000000</td>\n      <td>0.000000</td>\n      <td>98033.000000</td>\n      <td>47.471000</td>\n      <td>-122.328000</td>\n      <td>1490.000000</td>\n      <td>5100.000000</td>\n    </tr>\n    <tr>\n      <th>50%</th>\n      <td>10806.00000</td>\n      <td>3.904930e+09</td>\n      <td>4.500000e+05</td>\n      <td>3.000000</td>\n      <td>2.250000</td>\n      <td>1910.000000</td>\n      <td>7.618000e+03</td>\n      <td>1.500000</td>\n      <td>0.000000</td>\n      <td>0.000000</td>\n      <td>...</td>\n      <td>7.000000</td>\n      <td>1560.000000</td>\n      <td>0.000000</td>\n      <td>1975.000000</td>\n      <td>0.000000</td>\n      <td>98065.000000</td>\n      <td>47.571800</td>\n      <td>-122.230000</td>\n      <td>1840.000000</td>\n      <td>7620.000000</td>\n    </tr>\n    <tr>\n      <th>75%</th>\n      <td>16209.00000</td>\n      <td>7.308900e+09</td>\n      <td>6.450000e+05</td>\n      <td>4.000000</td>\n      <td>2.500000</td>\n      <td>2550.000000</td>\n      <td>1.068800e+04</td>\n      <td>2.000000</td>\n      <td>0.000000</td>\n      <td>0.000000</td>\n      <td>...</td>\n      <td>8.000000</td>\n      <td>2210.000000</td>\n      <td>560.000000</td>\n      <td>1997.000000</td>\n      <td>0.000000</td>\n      <td>98118.000000</td>\n      <td>47.678000</td>\n      <td>-122.125000</td>\n      <td>2360.000000</td>\n      <td>10083.000000</td>\n    </tr>\n    <tr>\n      <th>max</th>\n      <td>21612.00000</td>\n      <td>9.900000e+09</td>\n      <td>7.700000e+06</td>\n      <td>33.000000</td>\n      <td>8.000000</td>\n      <td>13540.000000</td>\n      <td>1.651359e+06</td>\n      <td>3.500000</td>\n      <td>1.000000</td>\n      <td>4.000000</td>\n      <td>...</td>\n      <td>13.000000</td>\n      <td>9410.000000</td>\n      <td>4820.000000</td>\n      <td>2015.000000</td>\n      <td>2015.000000</td>\n      <td>98199.000000</td>\n      <td>47.777600</td>\n      <td>-121.315000</td>\n      <td>6210.000000</td>\n      <td>871200.000000</td>\n    </tr>\n  </tbody>\n</table>\n<p>8 rows \u00d7 21 columns</p>\n</div>",
                        "text/plain": "        Unnamed: 0            id         price      bedrooms     bathrooms  \\\ncount  21613.00000  2.161300e+04  2.161300e+04  21600.000000  21603.000000   \nmean   10806.00000  4.580302e+09  5.400881e+05      3.372870      2.115736   \nstd     6239.28002  2.876566e+09  3.671272e+05      0.926657      0.768996   \nmin        0.00000  1.000102e+06  7.500000e+04      1.000000      0.500000   \n25%     5403.00000  2.123049e+09  3.219500e+05      3.000000      1.750000   \n50%    10806.00000  3.904930e+09  4.500000e+05      3.000000      2.250000   \n75%    16209.00000  7.308900e+09  6.450000e+05      4.000000      2.500000   \nmax    21612.00000  9.900000e+09  7.700000e+06     33.000000      8.000000   \n\n        sqft_living      sqft_lot        floors    waterfront          view  \\\ncount  21613.000000  2.161300e+04  21613.000000  21613.000000  21613.000000   \nmean    2079.899736  1.510697e+04      1.494309      0.007542      0.234303   \nstd      918.440897  4.142051e+04      0.539989      0.086517      0.766318   \nmin      290.000000  5.200000e+02      1.000000      0.000000      0.000000   \n25%     1427.000000  5.040000e+03      1.000000      0.000000      0.000000   \n50%     1910.000000  7.618000e+03      1.500000      0.000000      0.000000   \n75%     2550.000000  1.068800e+04      2.000000      0.000000      0.000000   \nmax    13540.000000  1.651359e+06      3.500000      1.000000      4.000000   \n\n       ...         grade    sqft_above  sqft_basement      yr_built  \\\ncount  ...  21613.000000  21613.000000   21613.000000  21613.000000   \nmean   ...      7.656873   1788.390691     291.509045   1971.005136   \nstd    ...      1.175459    828.090978     442.575043     29.373411   \nmin    ...      1.000000    290.000000       0.000000   1900.000000   \n25%    ...      7.000000   1190.000000       0.000000   1951.000000   \n50%    ...      7.000000   1560.000000       0.000000   1975.000000   \n75%    ...      8.000000   2210.000000     560.000000   1997.000000   \nmax    ...     13.000000   9410.000000    4820.000000   2015.000000   \n\n       yr_renovated       zipcode           lat          long  sqft_living15  \\\ncount  21613.000000  21613.000000  21613.000000  21613.000000   21613.000000   \nmean      84.402258  98077.939805     47.560053   -122.213896    1986.552492   \nstd      401.679240     53.505026      0.138564      0.140828     685.391304   \nmin        0.000000  98001.000000     47.155900   -122.519000     399.000000   \n25%        0.000000  98033.000000     47.471000   -122.328000    1490.000000   \n50%        0.000000  98065.000000     47.571800   -122.230000    1840.000000   \n75%        0.000000  98118.000000     47.678000   -122.125000    2360.000000   \nmax     2015.000000  98199.000000     47.777600   -121.315000    6210.000000   \n\n          sqft_lot15  \ncount   21613.000000  \nmean    12768.455652  \nstd     27304.179631  \nmin       651.000000  \n25%      5100.000000  \n50%      7620.000000  \n75%     10083.000000  \nmax    871200.000000  \n\n[8 rows x 21 columns]"
                    },
                    "execution_count": 7,
                    "metadata": {},
                    "output_type": "execute_result"
                }
            ],
            "source": "df.describe()"
        },
        {
            "cell_type": "markdown",
            "metadata": {},
            "source": "# Module 2: Data Wrangling"
        },
        {
            "cell_type": "markdown",
            "metadata": {},
            "source": "### Question 2 \nDrop the columns <code>\"id\"</code>  and <code>\"Unnamed: 0\"</code> from axis 1 using the method <code>drop()</code>, then use the method <code>describe()</code> to obtain a statistical summary of the data. Take a screenshot and submit it, make sure the <code>inplace</code> parameter is set to <code>True</code>"
        },
        {
            "cell_type": "code",
            "execution_count": 10,
            "metadata": {
                "jupyter": {
                    "outputs_hidden": false
                }
            },
            "outputs": [
                {
                    "data": {
                        "text/html": "<div>\n<style scoped>\n    .dataframe tbody tr th:only-of-type {\n        vertical-align: middle;\n    }\n\n    .dataframe tbody tr th {\n        vertical-align: top;\n    }\n\n    .dataframe thead th {\n        text-align: right;\n    }\n</style>\n<table border=\"1\" class=\"dataframe\">\n  <thead>\n    <tr style=\"text-align: right;\">\n      <th></th>\n      <th>date</th>\n      <th>price</th>\n      <th>bedrooms</th>\n      <th>bathrooms</th>\n      <th>sqft_living</th>\n      <th>sqft_lot</th>\n      <th>floors</th>\n      <th>waterfront</th>\n      <th>view</th>\n      <th>condition</th>\n      <th>grade</th>\n      <th>sqft_above</th>\n      <th>sqft_basement</th>\n      <th>yr_built</th>\n      <th>yr_renovated</th>\n      <th>zipcode</th>\n      <th>lat</th>\n      <th>long</th>\n      <th>sqft_living15</th>\n      <th>sqft_lot15</th>\n    </tr>\n  </thead>\n  <tbody>\n    <tr>\n      <th>0</th>\n      <td>20141013T000000</td>\n      <td>221900.0</td>\n      <td>3.0</td>\n      <td>1.00</td>\n      <td>1180</td>\n      <td>5650</td>\n      <td>1.0</td>\n      <td>0</td>\n      <td>0</td>\n      <td>3</td>\n      <td>7</td>\n      <td>1180</td>\n      <td>0</td>\n      <td>1955</td>\n      <td>0</td>\n      <td>98178</td>\n      <td>47.5112</td>\n      <td>-122.257</td>\n      <td>1340</td>\n      <td>5650</td>\n    </tr>\n    <tr>\n      <th>1</th>\n      <td>20141209T000000</td>\n      <td>538000.0</td>\n      <td>3.0</td>\n      <td>2.25</td>\n      <td>2570</td>\n      <td>7242</td>\n      <td>2.0</td>\n      <td>0</td>\n      <td>0</td>\n      <td>3</td>\n      <td>7</td>\n      <td>2170</td>\n      <td>400</td>\n      <td>1951</td>\n      <td>1991</td>\n      <td>98125</td>\n      <td>47.7210</td>\n      <td>-122.319</td>\n      <td>1690</td>\n      <td>7639</td>\n    </tr>\n    <tr>\n      <th>2</th>\n      <td>20150225T000000</td>\n      <td>180000.0</td>\n      <td>2.0</td>\n      <td>1.00</td>\n      <td>770</td>\n      <td>10000</td>\n      <td>1.0</td>\n      <td>0</td>\n      <td>0</td>\n      <td>3</td>\n      <td>6</td>\n      <td>770</td>\n      <td>0</td>\n      <td>1933</td>\n      <td>0</td>\n      <td>98028</td>\n      <td>47.7379</td>\n      <td>-122.233</td>\n      <td>2720</td>\n      <td>8062</td>\n    </tr>\n    <tr>\n      <th>3</th>\n      <td>20141209T000000</td>\n      <td>604000.0</td>\n      <td>4.0</td>\n      <td>3.00</td>\n      <td>1960</td>\n      <td>5000</td>\n      <td>1.0</td>\n      <td>0</td>\n      <td>0</td>\n      <td>5</td>\n      <td>7</td>\n      <td>1050</td>\n      <td>910</td>\n      <td>1965</td>\n      <td>0</td>\n      <td>98136</td>\n      <td>47.5208</td>\n      <td>-122.393</td>\n      <td>1360</td>\n      <td>5000</td>\n    </tr>\n    <tr>\n      <th>4</th>\n      <td>20150218T000000</td>\n      <td>510000.0</td>\n      <td>3.0</td>\n      <td>2.00</td>\n      <td>1680</td>\n      <td>8080</td>\n      <td>1.0</td>\n      <td>0</td>\n      <td>0</td>\n      <td>3</td>\n      <td>8</td>\n      <td>1680</td>\n      <td>0</td>\n      <td>1987</td>\n      <td>0</td>\n      <td>98074</td>\n      <td>47.6168</td>\n      <td>-122.045</td>\n      <td>1800</td>\n      <td>7503</td>\n    </tr>\n    <tr>\n      <th>5</th>\n      <td>20140512T000000</td>\n      <td>1225000.0</td>\n      <td>4.0</td>\n      <td>4.50</td>\n      <td>5420</td>\n      <td>101930</td>\n      <td>1.0</td>\n      <td>0</td>\n      <td>0</td>\n      <td>3</td>\n      <td>11</td>\n      <td>3890</td>\n      <td>1530</td>\n      <td>2001</td>\n      <td>0</td>\n      <td>98053</td>\n      <td>47.6561</td>\n      <td>-122.005</td>\n      <td>4760</td>\n      <td>101930</td>\n    </tr>\n    <tr>\n      <th>6</th>\n      <td>20140627T000000</td>\n      <td>257500.0</td>\n      <td>3.0</td>\n      <td>2.25</td>\n      <td>1715</td>\n      <td>6819</td>\n      <td>2.0</td>\n      <td>0</td>\n      <td>0</td>\n      <td>3</td>\n      <td>7</td>\n      <td>1715</td>\n      <td>0</td>\n      <td>1995</td>\n      <td>0</td>\n      <td>98003</td>\n      <td>47.3097</td>\n      <td>-122.327</td>\n      <td>2238</td>\n      <td>6819</td>\n    </tr>\n    <tr>\n      <th>7</th>\n      <td>20150115T000000</td>\n      <td>291850.0</td>\n      <td>3.0</td>\n      <td>1.50</td>\n      <td>1060</td>\n      <td>9711</td>\n      <td>1.0</td>\n      <td>0</td>\n      <td>0</td>\n      <td>3</td>\n      <td>7</td>\n      <td>1060</td>\n      <td>0</td>\n      <td>1963</td>\n      <td>0</td>\n      <td>98198</td>\n      <td>47.4095</td>\n      <td>-122.315</td>\n      <td>1650</td>\n      <td>9711</td>\n    </tr>\n    <tr>\n      <th>8</th>\n      <td>20150415T000000</td>\n      <td>229500.0</td>\n      <td>3.0</td>\n      <td>1.00</td>\n      <td>1780</td>\n      <td>7470</td>\n      <td>1.0</td>\n      <td>0</td>\n      <td>0</td>\n      <td>3</td>\n      <td>7</td>\n      <td>1050</td>\n      <td>730</td>\n      <td>1960</td>\n      <td>0</td>\n      <td>98146</td>\n      <td>47.5123</td>\n      <td>-122.337</td>\n      <td>1780</td>\n      <td>8113</td>\n    </tr>\n    <tr>\n      <th>9</th>\n      <td>20150312T000000</td>\n      <td>323000.0</td>\n      <td>3.0</td>\n      <td>2.50</td>\n      <td>1890</td>\n      <td>6560</td>\n      <td>2.0</td>\n      <td>0</td>\n      <td>0</td>\n      <td>3</td>\n      <td>7</td>\n      <td>1890</td>\n      <td>0</td>\n      <td>2003</td>\n      <td>0</td>\n      <td>98038</td>\n      <td>47.3684</td>\n      <td>-122.031</td>\n      <td>2390</td>\n      <td>7570</td>\n    </tr>\n    <tr>\n      <th>10</th>\n      <td>20150403T000000</td>\n      <td>662500.0</td>\n      <td>3.0</td>\n      <td>2.50</td>\n      <td>3560</td>\n      <td>9796</td>\n      <td>1.0</td>\n      <td>0</td>\n      <td>0</td>\n      <td>3</td>\n      <td>8</td>\n      <td>1860</td>\n      <td>1700</td>\n      <td>1965</td>\n      <td>0</td>\n      <td>98007</td>\n      <td>47.6007</td>\n      <td>-122.145</td>\n      <td>2210</td>\n      <td>8925</td>\n    </tr>\n    <tr>\n      <th>11</th>\n      <td>20140527T000000</td>\n      <td>468000.0</td>\n      <td>2.0</td>\n      <td>1.00</td>\n      <td>1160</td>\n      <td>6000</td>\n      <td>1.0</td>\n      <td>0</td>\n      <td>0</td>\n      <td>4</td>\n      <td>7</td>\n      <td>860</td>\n      <td>300</td>\n      <td>1942</td>\n      <td>0</td>\n      <td>98115</td>\n      <td>47.6900</td>\n      <td>-122.292</td>\n      <td>1330</td>\n      <td>6000</td>\n    </tr>\n    <tr>\n      <th>12</th>\n      <td>20140528T000000</td>\n      <td>310000.0</td>\n      <td>3.0</td>\n      <td>1.00</td>\n      <td>1430</td>\n      <td>19901</td>\n      <td>1.5</td>\n      <td>0</td>\n      <td>0</td>\n      <td>4</td>\n      <td>7</td>\n      <td>1430</td>\n      <td>0</td>\n      <td>1927</td>\n      <td>0</td>\n      <td>98028</td>\n      <td>47.7558</td>\n      <td>-122.229</td>\n      <td>1780</td>\n      <td>12697</td>\n    </tr>\n    <tr>\n      <th>13</th>\n      <td>20141007T000000</td>\n      <td>400000.0</td>\n      <td>3.0</td>\n      <td>1.75</td>\n      <td>1370</td>\n      <td>9680</td>\n      <td>1.0</td>\n      <td>0</td>\n      <td>0</td>\n      <td>4</td>\n      <td>7</td>\n      <td>1370</td>\n      <td>0</td>\n      <td>1977</td>\n      <td>0</td>\n      <td>98074</td>\n      <td>47.6127</td>\n      <td>-122.045</td>\n      <td>1370</td>\n      <td>10208</td>\n    </tr>\n    <tr>\n      <th>14</th>\n      <td>20150312T000000</td>\n      <td>530000.0</td>\n      <td>5.0</td>\n      <td>2.00</td>\n      <td>1810</td>\n      <td>4850</td>\n      <td>1.5</td>\n      <td>0</td>\n      <td>0</td>\n      <td>3</td>\n      <td>7</td>\n      <td>1810</td>\n      <td>0</td>\n      <td>1900</td>\n      <td>0</td>\n      <td>98107</td>\n      <td>47.6700</td>\n      <td>-122.394</td>\n      <td>1360</td>\n      <td>4850</td>\n    </tr>\n    <tr>\n      <th>15</th>\n      <td>20150124T000000</td>\n      <td>650000.0</td>\n      <td>4.0</td>\n      <td>3.00</td>\n      <td>2950</td>\n      <td>5000</td>\n      <td>2.0</td>\n      <td>0</td>\n      <td>3</td>\n      <td>3</td>\n      <td>9</td>\n      <td>1980</td>\n      <td>970</td>\n      <td>1979</td>\n      <td>0</td>\n      <td>98126</td>\n      <td>47.5714</td>\n      <td>-122.375</td>\n      <td>2140</td>\n      <td>4000</td>\n    </tr>\n    <tr>\n      <th>16</th>\n      <td>20140731T000000</td>\n      <td>395000.0</td>\n      <td>3.0</td>\n      <td>2.00</td>\n      <td>1890</td>\n      <td>14040</td>\n      <td>2.0</td>\n      <td>0</td>\n      <td>0</td>\n      <td>3</td>\n      <td>7</td>\n      <td>1890</td>\n      <td>0</td>\n      <td>1994</td>\n      <td>0</td>\n      <td>98019</td>\n      <td>47.7277</td>\n      <td>-121.962</td>\n      <td>1890</td>\n      <td>14018</td>\n    </tr>\n    <tr>\n      <th>17</th>\n      <td>20140529T000000</td>\n      <td>485000.0</td>\n      <td>4.0</td>\n      <td>1.00</td>\n      <td>1600</td>\n      <td>4300</td>\n      <td>1.5</td>\n      <td>0</td>\n      <td>0</td>\n      <td>4</td>\n      <td>7</td>\n      <td>1600</td>\n      <td>0</td>\n      <td>1916</td>\n      <td>0</td>\n      <td>98103</td>\n      <td>47.6648</td>\n      <td>-122.343</td>\n      <td>1610</td>\n      <td>4300</td>\n    </tr>\n    <tr>\n      <th>18</th>\n      <td>20141205T000000</td>\n      <td>189000.0</td>\n      <td>2.0</td>\n      <td>1.00</td>\n      <td>1200</td>\n      <td>9850</td>\n      <td>1.0</td>\n      <td>0</td>\n      <td>0</td>\n      <td>4</td>\n      <td>7</td>\n      <td>1200</td>\n      <td>0</td>\n      <td>1921</td>\n      <td>0</td>\n      <td>98002</td>\n      <td>47.3089</td>\n      <td>-122.210</td>\n      <td>1060</td>\n      <td>5095</td>\n    </tr>\n    <tr>\n      <th>19</th>\n      <td>20150424T000000</td>\n      <td>230000.0</td>\n      <td>3.0</td>\n      <td>1.00</td>\n      <td>1250</td>\n      <td>9774</td>\n      <td>1.0</td>\n      <td>0</td>\n      <td>0</td>\n      <td>4</td>\n      <td>7</td>\n      <td>1250</td>\n      <td>0</td>\n      <td>1969</td>\n      <td>0</td>\n      <td>98003</td>\n      <td>47.3343</td>\n      <td>-122.306</td>\n      <td>1280</td>\n      <td>8850</td>\n    </tr>\n    <tr>\n      <th>20</th>\n      <td>20140514T000000</td>\n      <td>385000.0</td>\n      <td>4.0</td>\n      <td>1.75</td>\n      <td>1620</td>\n      <td>4980</td>\n      <td>1.0</td>\n      <td>0</td>\n      <td>0</td>\n      <td>4</td>\n      <td>7</td>\n      <td>860</td>\n      <td>760</td>\n      <td>1947</td>\n      <td>0</td>\n      <td>98133</td>\n      <td>47.7025</td>\n      <td>-122.341</td>\n      <td>1400</td>\n      <td>4980</td>\n    </tr>\n    <tr>\n      <th>21</th>\n      <td>20140826T000000</td>\n      <td>2000000.0</td>\n      <td>3.0</td>\n      <td>2.75</td>\n      <td>3050</td>\n      <td>44867</td>\n      <td>1.0</td>\n      <td>0</td>\n      <td>4</td>\n      <td>3</td>\n      <td>9</td>\n      <td>2330</td>\n      <td>720</td>\n      <td>1968</td>\n      <td>0</td>\n      <td>98040</td>\n      <td>47.5316</td>\n      <td>-122.233</td>\n      <td>4110</td>\n      <td>20336</td>\n    </tr>\n    <tr>\n      <th>22</th>\n      <td>20140703T000000</td>\n      <td>285000.0</td>\n      <td>5.0</td>\n      <td>2.50</td>\n      <td>2270</td>\n      <td>6300</td>\n      <td>2.0</td>\n      <td>0</td>\n      <td>0</td>\n      <td>3</td>\n      <td>8</td>\n      <td>2270</td>\n      <td>0</td>\n      <td>1995</td>\n      <td>0</td>\n      <td>98092</td>\n      <td>47.3266</td>\n      <td>-122.169</td>\n      <td>2240</td>\n      <td>7005</td>\n    </tr>\n    <tr>\n      <th>23</th>\n      <td>20140516T000000</td>\n      <td>252700.0</td>\n      <td>2.0</td>\n      <td>1.50</td>\n      <td>1070</td>\n      <td>9643</td>\n      <td>1.0</td>\n      <td>0</td>\n      <td>0</td>\n      <td>3</td>\n      <td>7</td>\n      <td>1070</td>\n      <td>0</td>\n      <td>1985</td>\n      <td>0</td>\n      <td>98030</td>\n      <td>47.3533</td>\n      <td>-122.166</td>\n      <td>1220</td>\n      <td>8386</td>\n    </tr>\n    <tr>\n      <th>24</th>\n      <td>20141120T000000</td>\n      <td>329000.0</td>\n      <td>3.0</td>\n      <td>2.25</td>\n      <td>2450</td>\n      <td>6500</td>\n      <td>2.0</td>\n      <td>0</td>\n      <td>0</td>\n      <td>4</td>\n      <td>8</td>\n      <td>2450</td>\n      <td>0</td>\n      <td>1985</td>\n      <td>0</td>\n      <td>98030</td>\n      <td>47.3739</td>\n      <td>-122.172</td>\n      <td>2200</td>\n      <td>6865</td>\n    </tr>\n    <tr>\n      <th>25</th>\n      <td>20141103T000000</td>\n      <td>233000.0</td>\n      <td>3.0</td>\n      <td>2.00</td>\n      <td>1710</td>\n      <td>4697</td>\n      <td>1.5</td>\n      <td>0</td>\n      <td>0</td>\n      <td>5</td>\n      <td>6</td>\n      <td>1710</td>\n      <td>0</td>\n      <td>1941</td>\n      <td>0</td>\n      <td>98002</td>\n      <td>47.3048</td>\n      <td>-122.218</td>\n      <td>1030</td>\n      <td>4705</td>\n    </tr>\n    <tr>\n      <th>26</th>\n      <td>20140626T000000</td>\n      <td>937000.0</td>\n      <td>3.0</td>\n      <td>1.75</td>\n      <td>2450</td>\n      <td>2691</td>\n      <td>2.0</td>\n      <td>0</td>\n      <td>0</td>\n      <td>3</td>\n      <td>8</td>\n      <td>1750</td>\n      <td>700</td>\n      <td>1915</td>\n      <td>0</td>\n      <td>98119</td>\n      <td>47.6386</td>\n      <td>-122.360</td>\n      <td>1760</td>\n      <td>3573</td>\n    </tr>\n    <tr>\n      <th>27</th>\n      <td>20141201T000000</td>\n      <td>667000.0</td>\n      <td>3.0</td>\n      <td>1.00</td>\n      <td>1400</td>\n      <td>1581</td>\n      <td>1.5</td>\n      <td>0</td>\n      <td>0</td>\n      <td>5</td>\n      <td>8</td>\n      <td>1400</td>\n      <td>0</td>\n      <td>1909</td>\n      <td>0</td>\n      <td>98112</td>\n      <td>47.6221</td>\n      <td>-122.314</td>\n      <td>1860</td>\n      <td>3861</td>\n    </tr>\n    <tr>\n      <th>28</th>\n      <td>20140624T000000</td>\n      <td>438000.0</td>\n      <td>3.0</td>\n      <td>1.75</td>\n      <td>1520</td>\n      <td>6380</td>\n      <td>1.0</td>\n      <td>0</td>\n      <td>0</td>\n      <td>3</td>\n      <td>7</td>\n      <td>790</td>\n      <td>730</td>\n      <td>1948</td>\n      <td>0</td>\n      <td>98115</td>\n      <td>47.6950</td>\n      <td>-122.304</td>\n      <td>1520</td>\n      <td>6235</td>\n    </tr>\n    <tr>\n      <th>29</th>\n      <td>20150302T000000</td>\n      <td>719000.0</td>\n      <td>4.0</td>\n      <td>2.50</td>\n      <td>2570</td>\n      <td>7173</td>\n      <td>2.0</td>\n      <td>0</td>\n      <td>0</td>\n      <td>3</td>\n      <td>8</td>\n      <td>2570</td>\n      <td>0</td>\n      <td>2005</td>\n      <td>0</td>\n      <td>98052</td>\n      <td>47.7073</td>\n      <td>-122.110</td>\n      <td>2630</td>\n      <td>6026</td>\n    </tr>\n    <tr>\n      <th>...</th>\n      <td>...</td>\n      <td>...</td>\n      <td>...</td>\n      <td>...</td>\n      <td>...</td>\n      <td>...</td>\n      <td>...</td>\n      <td>...</td>\n      <td>...</td>\n      <td>...</td>\n      <td>...</td>\n      <td>...</td>\n      <td>...</td>\n      <td>...</td>\n      <td>...</td>\n      <td>...</td>\n      <td>...</td>\n      <td>...</td>\n      <td>...</td>\n      <td>...</td>\n    </tr>\n    <tr>\n      <th>21583</th>\n      <td>20140610T000000</td>\n      <td>399950.0</td>\n      <td>2.0</td>\n      <td>1.00</td>\n      <td>710</td>\n      <td>1157</td>\n      <td>2.0</td>\n      <td>0</td>\n      <td>0</td>\n      <td>4</td>\n      <td>7</td>\n      <td>710</td>\n      <td>0</td>\n      <td>1943</td>\n      <td>0</td>\n      <td>98102</td>\n      <td>47.6413</td>\n      <td>-122.329</td>\n      <td>1370</td>\n      <td>1173</td>\n    </tr>\n    <tr>\n      <th>21584</th>\n      <td>20141202T000000</td>\n      <td>380000.0</td>\n      <td>3.0</td>\n      <td>2.50</td>\n      <td>1260</td>\n      <td>900</td>\n      <td>2.0</td>\n      <td>0</td>\n      <td>0</td>\n      <td>3</td>\n      <td>7</td>\n      <td>940</td>\n      <td>320</td>\n      <td>2007</td>\n      <td>0</td>\n      <td>98116</td>\n      <td>47.5621</td>\n      <td>-122.384</td>\n      <td>1310</td>\n      <td>1415</td>\n    </tr>\n    <tr>\n      <th>21585</th>\n      <td>20140828T000000</td>\n      <td>270000.0</td>\n      <td>3.0</td>\n      <td>2.50</td>\n      <td>1870</td>\n      <td>5000</td>\n      <td>2.0</td>\n      <td>0</td>\n      <td>0</td>\n      <td>3</td>\n      <td>7</td>\n      <td>1870</td>\n      <td>0</td>\n      <td>2009</td>\n      <td>0</td>\n      <td>98042</td>\n      <td>47.3339</td>\n      <td>-122.055</td>\n      <td>2170</td>\n      <td>5399</td>\n    </tr>\n    <tr>\n      <th>21586</th>\n      <td>20141015T000000</td>\n      <td>505000.0</td>\n      <td>2.0</td>\n      <td>2.50</td>\n      <td>1430</td>\n      <td>1201</td>\n      <td>3.0</td>\n      <td>0</td>\n      <td>0</td>\n      <td>3</td>\n      <td>8</td>\n      <td>1430</td>\n      <td>0</td>\n      <td>2009</td>\n      <td>0</td>\n      <td>98107</td>\n      <td>47.6707</td>\n      <td>-122.381</td>\n      <td>1430</td>\n      <td>1249</td>\n    </tr>\n    <tr>\n      <th>21587</th>\n      <td>20150305T000000</td>\n      <td>385000.0</td>\n      <td>3.0</td>\n      <td>2.50</td>\n      <td>1520</td>\n      <td>1488</td>\n      <td>3.0</td>\n      <td>0</td>\n      <td>0</td>\n      <td>3</td>\n      <td>8</td>\n      <td>1520</td>\n      <td>0</td>\n      <td>2006</td>\n      <td>0</td>\n      <td>98125</td>\n      <td>47.7337</td>\n      <td>-122.309</td>\n      <td>1520</td>\n      <td>1497</td>\n    </tr>\n    <tr>\n      <th>21588</th>\n      <td>20141113T000000</td>\n      <td>414500.0</td>\n      <td>2.0</td>\n      <td>1.50</td>\n      <td>1210</td>\n      <td>1278</td>\n      <td>2.0</td>\n      <td>0</td>\n      <td>0</td>\n      <td>3</td>\n      <td>8</td>\n      <td>1020</td>\n      <td>190</td>\n      <td>2007</td>\n      <td>0</td>\n      <td>98117</td>\n      <td>47.6756</td>\n      <td>-122.375</td>\n      <td>1210</td>\n      <td>1118</td>\n    </tr>\n    <tr>\n      <th>21589</th>\n      <td>20140910T000000</td>\n      <td>347500.0</td>\n      <td>3.0</td>\n      <td>2.50</td>\n      <td>2540</td>\n      <td>4760</td>\n      <td>2.0</td>\n      <td>0</td>\n      <td>0</td>\n      <td>3</td>\n      <td>8</td>\n      <td>2540</td>\n      <td>0</td>\n      <td>2010</td>\n      <td>0</td>\n      <td>98038</td>\n      <td>47.3452</td>\n      <td>-122.022</td>\n      <td>2540</td>\n      <td>4571</td>\n    </tr>\n    <tr>\n      <th>21590</th>\n      <td>20140514T000000</td>\n      <td>1222500.0</td>\n      <td>4.0</td>\n      <td>3.50</td>\n      <td>4910</td>\n      <td>9444</td>\n      <td>1.5</td>\n      <td>0</td>\n      <td>0</td>\n      <td>3</td>\n      <td>11</td>\n      <td>3110</td>\n      <td>1800</td>\n      <td>2007</td>\n      <td>0</td>\n      <td>98074</td>\n      <td>47.6502</td>\n      <td>-122.066</td>\n      <td>4560</td>\n      <td>11063</td>\n    </tr>\n    <tr>\n      <th>21591</th>\n      <td>20141002T000000</td>\n      <td>572000.0</td>\n      <td>4.0</td>\n      <td>2.75</td>\n      <td>2770</td>\n      <td>3852</td>\n      <td>2.0</td>\n      <td>0</td>\n      <td>0</td>\n      <td>3</td>\n      <td>8</td>\n      <td>2770</td>\n      <td>0</td>\n      <td>2014</td>\n      <td>0</td>\n      <td>98178</td>\n      <td>47.5001</td>\n      <td>-122.232</td>\n      <td>1810</td>\n      <td>5641</td>\n    </tr>\n    <tr>\n      <th>21592</th>\n      <td>20150416T000000</td>\n      <td>475000.0</td>\n      <td>3.0</td>\n      <td>2.25</td>\n      <td>1190</td>\n      <td>1200</td>\n      <td>3.0</td>\n      <td>0</td>\n      <td>0</td>\n      <td>3</td>\n      <td>8</td>\n      <td>1190</td>\n      <td>0</td>\n      <td>2008</td>\n      <td>0</td>\n      <td>98103</td>\n      <td>47.6542</td>\n      <td>-122.346</td>\n      <td>1180</td>\n      <td>1224</td>\n    </tr>\n    <tr>\n      <th>21593</th>\n      <td>20150317T000000</td>\n      <td>1088000.0</td>\n      <td>5.0</td>\n      <td>3.75</td>\n      <td>4170</td>\n      <td>8142</td>\n      <td>2.0</td>\n      <td>0</td>\n      <td>2</td>\n      <td>3</td>\n      <td>10</td>\n      <td>4170</td>\n      <td>0</td>\n      <td>2006</td>\n      <td>0</td>\n      <td>98056</td>\n      <td>47.5354</td>\n      <td>-122.181</td>\n      <td>3030</td>\n      <td>7980</td>\n    </tr>\n    <tr>\n      <th>21594</th>\n      <td>20141017T000000</td>\n      <td>350000.0</td>\n      <td>4.0</td>\n      <td>2.75</td>\n      <td>2500</td>\n      <td>5995</td>\n      <td>2.0</td>\n      <td>0</td>\n      <td>0</td>\n      <td>3</td>\n      <td>8</td>\n      <td>2500</td>\n      <td>0</td>\n      <td>2008</td>\n      <td>0</td>\n      <td>98042</td>\n      <td>47.3749</td>\n      <td>-122.107</td>\n      <td>2530</td>\n      <td>5988</td>\n    </tr>\n    <tr>\n      <th>21595</th>\n      <td>20141031T000000</td>\n      <td>520000.0</td>\n      <td>2.0</td>\n      <td>2.25</td>\n      <td>1530</td>\n      <td>981</td>\n      <td>3.0</td>\n      <td>0</td>\n      <td>0</td>\n      <td>3</td>\n      <td>8</td>\n      <td>1480</td>\n      <td>50</td>\n      <td>2006</td>\n      <td>0</td>\n      <td>98103</td>\n      <td>47.6533</td>\n      <td>-122.346</td>\n      <td>1530</td>\n      <td>1282</td>\n    </tr>\n    <tr>\n      <th>21596</th>\n      <td>20140813T000000</td>\n      <td>679950.0</td>\n      <td>5.0</td>\n      <td>2.75</td>\n      <td>3600</td>\n      <td>9437</td>\n      <td>2.0</td>\n      <td>0</td>\n      <td>0</td>\n      <td>3</td>\n      <td>9</td>\n      <td>3600</td>\n      <td>0</td>\n      <td>2014</td>\n      <td>0</td>\n      <td>98059</td>\n      <td>47.4822</td>\n      <td>-122.131</td>\n      <td>3550</td>\n      <td>9421</td>\n    </tr>\n    <tr>\n      <th>21597</th>\n      <td>20150421T000000</td>\n      <td>1575000.0</td>\n      <td>4.0</td>\n      <td>3.25</td>\n      <td>3410</td>\n      <td>10125</td>\n      <td>2.0</td>\n      <td>0</td>\n      <td>0</td>\n      <td>3</td>\n      <td>10</td>\n      <td>3410</td>\n      <td>0</td>\n      <td>2007</td>\n      <td>0</td>\n      <td>98040</td>\n      <td>47.5653</td>\n      <td>-122.223</td>\n      <td>2290</td>\n      <td>10125</td>\n    </tr>\n    <tr>\n      <th>21598</th>\n      <td>20141013T000000</td>\n      <td>541800.0</td>\n      <td>4.0</td>\n      <td>2.50</td>\n      <td>3118</td>\n      <td>7866</td>\n      <td>2.0</td>\n      <td>0</td>\n      <td>2</td>\n      <td>3</td>\n      <td>9</td>\n      <td>3118</td>\n      <td>0</td>\n      <td>2014</td>\n      <td>0</td>\n      <td>98001</td>\n      <td>47.2931</td>\n      <td>-122.264</td>\n      <td>2673</td>\n      <td>6500</td>\n    </tr>\n    <tr>\n      <th>21599</th>\n      <td>20140915T000000</td>\n      <td>810000.0</td>\n      <td>4.0</td>\n      <td>3.00</td>\n      <td>3990</td>\n      <td>7838</td>\n      <td>2.0</td>\n      <td>0</td>\n      <td>0</td>\n      <td>3</td>\n      <td>9</td>\n      <td>3990</td>\n      <td>0</td>\n      <td>2003</td>\n      <td>0</td>\n      <td>98053</td>\n      <td>47.6857</td>\n      <td>-122.046</td>\n      <td>3370</td>\n      <td>6814</td>\n    </tr>\n    <tr>\n      <th>21600</th>\n      <td>20141015T000000</td>\n      <td>1537000.0</td>\n      <td>5.0</td>\n      <td>3.75</td>\n      <td>4470</td>\n      <td>8088</td>\n      <td>2.0</td>\n      <td>0</td>\n      <td>0</td>\n      <td>3</td>\n      <td>11</td>\n      <td>4470</td>\n      <td>0</td>\n      <td>2008</td>\n      <td>0</td>\n      <td>98004</td>\n      <td>47.6321</td>\n      <td>-122.200</td>\n      <td>2780</td>\n      <td>8964</td>\n    </tr>\n    <tr>\n      <th>21601</th>\n      <td>20150407T000000</td>\n      <td>467000.0</td>\n      <td>3.0</td>\n      <td>2.50</td>\n      <td>1425</td>\n      <td>1179</td>\n      <td>3.0</td>\n      <td>0</td>\n      <td>0</td>\n      <td>3</td>\n      <td>8</td>\n      <td>1425</td>\n      <td>0</td>\n      <td>2008</td>\n      <td>0</td>\n      <td>98125</td>\n      <td>47.6963</td>\n      <td>-122.318</td>\n      <td>1285</td>\n      <td>1253</td>\n    </tr>\n    <tr>\n      <th>21602</th>\n      <td>20140626T000000</td>\n      <td>224000.0</td>\n      <td>3.0</td>\n      <td>1.75</td>\n      <td>1500</td>\n      <td>11968</td>\n      <td>1.0</td>\n      <td>0</td>\n      <td>0</td>\n      <td>3</td>\n      <td>6</td>\n      <td>1500</td>\n      <td>0</td>\n      <td>2014</td>\n      <td>0</td>\n      <td>98010</td>\n      <td>47.3095</td>\n      <td>-122.002</td>\n      <td>1320</td>\n      <td>11303</td>\n    </tr>\n    <tr>\n      <th>21603</th>\n      <td>20140825T000000</td>\n      <td>507250.0</td>\n      <td>3.0</td>\n      <td>2.50</td>\n      <td>2270</td>\n      <td>5536</td>\n      <td>2.0</td>\n      <td>0</td>\n      <td>0</td>\n      <td>3</td>\n      <td>8</td>\n      <td>2270</td>\n      <td>0</td>\n      <td>2003</td>\n      <td>0</td>\n      <td>98065</td>\n      <td>47.5389</td>\n      <td>-121.881</td>\n      <td>2270</td>\n      <td>5731</td>\n    </tr>\n    <tr>\n      <th>21604</th>\n      <td>20150126T000000</td>\n      <td>429000.0</td>\n      <td>3.0</td>\n      <td>2.00</td>\n      <td>1490</td>\n      <td>1126</td>\n      <td>3.0</td>\n      <td>0</td>\n      <td>0</td>\n      <td>3</td>\n      <td>8</td>\n      <td>1490</td>\n      <td>0</td>\n      <td>2014</td>\n      <td>0</td>\n      <td>98144</td>\n      <td>47.5699</td>\n      <td>-122.288</td>\n      <td>1400</td>\n      <td>1230</td>\n    </tr>\n    <tr>\n      <th>21605</th>\n      <td>20141014T000000</td>\n      <td>610685.0</td>\n      <td>4.0</td>\n      <td>2.50</td>\n      <td>2520</td>\n      <td>6023</td>\n      <td>2.0</td>\n      <td>0</td>\n      <td>0</td>\n      <td>3</td>\n      <td>9</td>\n      <td>2520</td>\n      <td>0</td>\n      <td>2014</td>\n      <td>0</td>\n      <td>98056</td>\n      <td>47.5137</td>\n      <td>-122.167</td>\n      <td>2520</td>\n      <td>6023</td>\n    </tr>\n    <tr>\n      <th>21606</th>\n      <td>20150326T000000</td>\n      <td>1007500.0</td>\n      <td>4.0</td>\n      <td>3.50</td>\n      <td>3510</td>\n      <td>7200</td>\n      <td>2.0</td>\n      <td>0</td>\n      <td>0</td>\n      <td>3</td>\n      <td>9</td>\n      <td>2600</td>\n      <td>910</td>\n      <td>2009</td>\n      <td>0</td>\n      <td>98136</td>\n      <td>47.5537</td>\n      <td>-122.398</td>\n      <td>2050</td>\n      <td>6200</td>\n    </tr>\n    <tr>\n      <th>21607</th>\n      <td>20150219T000000</td>\n      <td>475000.0</td>\n      <td>3.0</td>\n      <td>2.50</td>\n      <td>1310</td>\n      <td>1294</td>\n      <td>2.0</td>\n      <td>0</td>\n      <td>0</td>\n      <td>3</td>\n      <td>8</td>\n      <td>1180</td>\n      <td>130</td>\n      <td>2008</td>\n      <td>0</td>\n      <td>98116</td>\n      <td>47.5773</td>\n      <td>-122.409</td>\n      <td>1330</td>\n      <td>1265</td>\n    </tr>\n    <tr>\n      <th>21608</th>\n      <td>20140521T000000</td>\n      <td>360000.0</td>\n      <td>3.0</td>\n      <td>2.50</td>\n      <td>1530</td>\n      <td>1131</td>\n      <td>3.0</td>\n      <td>0</td>\n      <td>0</td>\n      <td>3</td>\n      <td>8</td>\n      <td>1530</td>\n      <td>0</td>\n      <td>2009</td>\n      <td>0</td>\n      <td>98103</td>\n      <td>47.6993</td>\n      <td>-122.346</td>\n      <td>1530</td>\n      <td>1509</td>\n    </tr>\n    <tr>\n      <th>21609</th>\n      <td>20150223T000000</td>\n      <td>400000.0</td>\n      <td>4.0</td>\n      <td>2.50</td>\n      <td>2310</td>\n      <td>5813</td>\n      <td>2.0</td>\n      <td>0</td>\n      <td>0</td>\n      <td>3</td>\n      <td>8</td>\n      <td>2310</td>\n      <td>0</td>\n      <td>2014</td>\n      <td>0</td>\n      <td>98146</td>\n      <td>47.5107</td>\n      <td>-122.362</td>\n      <td>1830</td>\n      <td>7200</td>\n    </tr>\n    <tr>\n      <th>21610</th>\n      <td>20140623T000000</td>\n      <td>402101.0</td>\n      <td>2.0</td>\n      <td>0.75</td>\n      <td>1020</td>\n      <td>1350</td>\n      <td>2.0</td>\n      <td>0</td>\n      <td>0</td>\n      <td>3</td>\n      <td>7</td>\n      <td>1020</td>\n      <td>0</td>\n      <td>2009</td>\n      <td>0</td>\n      <td>98144</td>\n      <td>47.5944</td>\n      <td>-122.299</td>\n      <td>1020</td>\n      <td>2007</td>\n    </tr>\n    <tr>\n      <th>21611</th>\n      <td>20150116T000000</td>\n      <td>400000.0</td>\n      <td>3.0</td>\n      <td>2.50</td>\n      <td>1600</td>\n      <td>2388</td>\n      <td>2.0</td>\n      <td>0</td>\n      <td>0</td>\n      <td>3</td>\n      <td>8</td>\n      <td>1600</td>\n      <td>0</td>\n      <td>2004</td>\n      <td>0</td>\n      <td>98027</td>\n      <td>47.5345</td>\n      <td>-122.069</td>\n      <td>1410</td>\n      <td>1287</td>\n    </tr>\n    <tr>\n      <th>21612</th>\n      <td>20141015T000000</td>\n      <td>325000.0</td>\n      <td>2.0</td>\n      <td>0.75</td>\n      <td>1020</td>\n      <td>1076</td>\n      <td>2.0</td>\n      <td>0</td>\n      <td>0</td>\n      <td>3</td>\n      <td>7</td>\n      <td>1020</td>\n      <td>0</td>\n      <td>2008</td>\n      <td>0</td>\n      <td>98144</td>\n      <td>47.5941</td>\n      <td>-122.299</td>\n      <td>1020</td>\n      <td>1357</td>\n    </tr>\n  </tbody>\n</table>\n<p>21613 rows \u00d7 20 columns</p>\n</div>",
                        "text/plain": "                  date      price  bedrooms  bathrooms  sqft_living  sqft_lot  \\\n0      20141013T000000   221900.0       3.0       1.00         1180      5650   \n1      20141209T000000   538000.0       3.0       2.25         2570      7242   \n2      20150225T000000   180000.0       2.0       1.00          770     10000   \n3      20141209T000000   604000.0       4.0       3.00         1960      5000   \n4      20150218T000000   510000.0       3.0       2.00         1680      8080   \n5      20140512T000000  1225000.0       4.0       4.50         5420    101930   \n6      20140627T000000   257500.0       3.0       2.25         1715      6819   \n7      20150115T000000   291850.0       3.0       1.50         1060      9711   \n8      20150415T000000   229500.0       3.0       1.00         1780      7470   \n9      20150312T000000   323000.0       3.0       2.50         1890      6560   \n10     20150403T000000   662500.0       3.0       2.50         3560      9796   \n11     20140527T000000   468000.0       2.0       1.00         1160      6000   \n12     20140528T000000   310000.0       3.0       1.00         1430     19901   \n13     20141007T000000   400000.0       3.0       1.75         1370      9680   \n14     20150312T000000   530000.0       5.0       2.00         1810      4850   \n15     20150124T000000   650000.0       4.0       3.00         2950      5000   \n16     20140731T000000   395000.0       3.0       2.00         1890     14040   \n17     20140529T000000   485000.0       4.0       1.00         1600      4300   \n18     20141205T000000   189000.0       2.0       1.00         1200      9850   \n19     20150424T000000   230000.0       3.0       1.00         1250      9774   \n20     20140514T000000   385000.0       4.0       1.75         1620      4980   \n21     20140826T000000  2000000.0       3.0       2.75         3050     44867   \n22     20140703T000000   285000.0       5.0       2.50         2270      6300   \n23     20140516T000000   252700.0       2.0       1.50         1070      9643   \n24     20141120T000000   329000.0       3.0       2.25         2450      6500   \n25     20141103T000000   233000.0       3.0       2.00         1710      4697   \n26     20140626T000000   937000.0       3.0       1.75         2450      2691   \n27     20141201T000000   667000.0       3.0       1.00         1400      1581   \n28     20140624T000000   438000.0       3.0       1.75         1520      6380   \n29     20150302T000000   719000.0       4.0       2.50         2570      7173   \n...                ...        ...       ...        ...          ...       ...   \n21583  20140610T000000   399950.0       2.0       1.00          710      1157   \n21584  20141202T000000   380000.0       3.0       2.50         1260       900   \n21585  20140828T000000   270000.0       3.0       2.50         1870      5000   \n21586  20141015T000000   505000.0       2.0       2.50         1430      1201   \n21587  20150305T000000   385000.0       3.0       2.50         1520      1488   \n21588  20141113T000000   414500.0       2.0       1.50         1210      1278   \n21589  20140910T000000   347500.0       3.0       2.50         2540      4760   \n21590  20140514T000000  1222500.0       4.0       3.50         4910      9444   \n21591  20141002T000000   572000.0       4.0       2.75         2770      3852   \n21592  20150416T000000   475000.0       3.0       2.25         1190      1200   \n21593  20150317T000000  1088000.0       5.0       3.75         4170      8142   \n21594  20141017T000000   350000.0       4.0       2.75         2500      5995   \n21595  20141031T000000   520000.0       2.0       2.25         1530       981   \n21596  20140813T000000   679950.0       5.0       2.75         3600      9437   \n21597  20150421T000000  1575000.0       4.0       3.25         3410     10125   \n21598  20141013T000000   541800.0       4.0       2.50         3118      7866   \n21599  20140915T000000   810000.0       4.0       3.00         3990      7838   \n21600  20141015T000000  1537000.0       5.0       3.75         4470      8088   \n21601  20150407T000000   467000.0       3.0       2.50         1425      1179   \n21602  20140626T000000   224000.0       3.0       1.75         1500     11968   \n21603  20140825T000000   507250.0       3.0       2.50         2270      5536   \n21604  20150126T000000   429000.0       3.0       2.00         1490      1126   \n21605  20141014T000000   610685.0       4.0       2.50         2520      6023   \n21606  20150326T000000  1007500.0       4.0       3.50         3510      7200   \n21607  20150219T000000   475000.0       3.0       2.50         1310      1294   \n21608  20140521T000000   360000.0       3.0       2.50         1530      1131   \n21609  20150223T000000   400000.0       4.0       2.50         2310      5813   \n21610  20140623T000000   402101.0       2.0       0.75         1020      1350   \n21611  20150116T000000   400000.0       3.0       2.50         1600      2388   \n21612  20141015T000000   325000.0       2.0       0.75         1020      1076   \n\n       floors  waterfront  view  condition  grade  sqft_above  sqft_basement  \\\n0         1.0           0     0          3      7        1180              0   \n1         2.0           0     0          3      7        2170            400   \n2         1.0           0     0          3      6         770              0   \n3         1.0           0     0          5      7        1050            910   \n4         1.0           0     0          3      8        1680              0   \n5         1.0           0     0          3     11        3890           1530   \n6         2.0           0     0          3      7        1715              0   \n7         1.0           0     0          3      7        1060              0   \n8         1.0           0     0          3      7        1050            730   \n9         2.0           0     0          3      7        1890              0   \n10        1.0           0     0          3      8        1860           1700   \n11        1.0           0     0          4      7         860            300   \n12        1.5           0     0          4      7        1430              0   \n13        1.0           0     0          4      7        1370              0   \n14        1.5           0     0          3      7        1810              0   \n15        2.0           0     3          3      9        1980            970   \n16        2.0           0     0          3      7        1890              0   \n17        1.5           0     0          4      7        1600              0   \n18        1.0           0     0          4      7        1200              0   \n19        1.0           0     0          4      7        1250              0   \n20        1.0           0     0          4      7         860            760   \n21        1.0           0     4          3      9        2330            720   \n22        2.0           0     0          3      8        2270              0   \n23        1.0           0     0          3      7        1070              0   \n24        2.0           0     0          4      8        2450              0   \n25        1.5           0     0          5      6        1710              0   \n26        2.0           0     0          3      8        1750            700   \n27        1.5           0     0          5      8        1400              0   \n28        1.0           0     0          3      7         790            730   \n29        2.0           0     0          3      8        2570              0   \n...       ...         ...   ...        ...    ...         ...            ...   \n21583     2.0           0     0          4      7         710              0   \n21584     2.0           0     0          3      7         940            320   \n21585     2.0           0     0          3      7        1870              0   \n21586     3.0           0     0          3      8        1430              0   \n21587     3.0           0     0          3      8        1520              0   \n21588     2.0           0     0          3      8        1020            190   \n21589     2.0           0     0          3      8        2540              0   \n21590     1.5           0     0          3     11        3110           1800   \n21591     2.0           0     0          3      8        2770              0   \n21592     3.0           0     0          3      8        1190              0   \n21593     2.0           0     2          3     10        4170              0   \n21594     2.0           0     0          3      8        2500              0   \n21595     3.0           0     0          3      8        1480             50   \n21596     2.0           0     0          3      9        3600              0   \n21597     2.0           0     0          3     10        3410              0   \n21598     2.0           0     2          3      9        3118              0   \n21599     2.0           0     0          3      9        3990              0   \n21600     2.0           0     0          3     11        4470              0   \n21601     3.0           0     0          3      8        1425              0   \n21602     1.0           0     0          3      6        1500              0   \n21603     2.0           0     0          3      8        2270              0   \n21604     3.0           0     0          3      8        1490              0   \n21605     2.0           0     0          3      9        2520              0   \n21606     2.0           0     0          3      9        2600            910   \n21607     2.0           0     0          3      8        1180            130   \n21608     3.0           0     0          3      8        1530              0   \n21609     2.0           0     0          3      8        2310              0   \n21610     2.0           0     0          3      7        1020              0   \n21611     2.0           0     0          3      8        1600              0   \n21612     2.0           0     0          3      7        1020              0   \n\n       yr_built  yr_renovated  zipcode      lat     long  sqft_living15  \\\n0          1955             0    98178  47.5112 -122.257           1340   \n1          1951          1991    98125  47.7210 -122.319           1690   \n2          1933             0    98028  47.7379 -122.233           2720   \n3          1965             0    98136  47.5208 -122.393           1360   \n4          1987             0    98074  47.6168 -122.045           1800   \n5          2001             0    98053  47.6561 -122.005           4760   \n6          1995             0    98003  47.3097 -122.327           2238   \n7          1963             0    98198  47.4095 -122.315           1650   \n8          1960             0    98146  47.5123 -122.337           1780   \n9          2003             0    98038  47.3684 -122.031           2390   \n10         1965             0    98007  47.6007 -122.145           2210   \n11         1942             0    98115  47.6900 -122.292           1330   \n12         1927             0    98028  47.7558 -122.229           1780   \n13         1977             0    98074  47.6127 -122.045           1370   \n14         1900             0    98107  47.6700 -122.394           1360   \n15         1979             0    98126  47.5714 -122.375           2140   \n16         1994             0    98019  47.7277 -121.962           1890   \n17         1916             0    98103  47.6648 -122.343           1610   \n18         1921             0    98002  47.3089 -122.210           1060   \n19         1969             0    98003  47.3343 -122.306           1280   \n20         1947             0    98133  47.7025 -122.341           1400   \n21         1968             0    98040  47.5316 -122.233           4110   \n22         1995             0    98092  47.3266 -122.169           2240   \n23         1985             0    98030  47.3533 -122.166           1220   \n24         1985             0    98030  47.3739 -122.172           2200   \n25         1941             0    98002  47.3048 -122.218           1030   \n26         1915             0    98119  47.6386 -122.360           1760   \n27         1909             0    98112  47.6221 -122.314           1860   \n28         1948             0    98115  47.6950 -122.304           1520   \n29         2005             0    98052  47.7073 -122.110           2630   \n...         ...           ...      ...      ...      ...            ...   \n21583      1943             0    98102  47.6413 -122.329           1370   \n21584      2007             0    98116  47.5621 -122.384           1310   \n21585      2009             0    98042  47.3339 -122.055           2170   \n21586      2009             0    98107  47.6707 -122.381           1430   \n21587      2006             0    98125  47.7337 -122.309           1520   \n21588      2007             0    98117  47.6756 -122.375           1210   \n21589      2010             0    98038  47.3452 -122.022           2540   \n21590      2007             0    98074  47.6502 -122.066           4560   \n21591      2014             0    98178  47.5001 -122.232           1810   \n21592      2008             0    98103  47.6542 -122.346           1180   \n21593      2006             0    98056  47.5354 -122.181           3030   \n21594      2008             0    98042  47.3749 -122.107           2530   \n21595      2006             0    98103  47.6533 -122.346           1530   \n21596      2014             0    98059  47.4822 -122.131           3550   \n21597      2007             0    98040  47.5653 -122.223           2290   \n21598      2014             0    98001  47.2931 -122.264           2673   \n21599      2003             0    98053  47.6857 -122.046           3370   \n21600      2008             0    98004  47.6321 -122.200           2780   \n21601      2008             0    98125  47.6963 -122.318           1285   \n21602      2014             0    98010  47.3095 -122.002           1320   \n21603      2003             0    98065  47.5389 -121.881           2270   \n21604      2014             0    98144  47.5699 -122.288           1400   \n21605      2014             0    98056  47.5137 -122.167           2520   \n21606      2009             0    98136  47.5537 -122.398           2050   \n21607      2008             0    98116  47.5773 -122.409           1330   \n21608      2009             0    98103  47.6993 -122.346           1530   \n21609      2014             0    98146  47.5107 -122.362           1830   \n21610      2009             0    98144  47.5944 -122.299           1020   \n21611      2004             0    98027  47.5345 -122.069           1410   \n21612      2008             0    98144  47.5941 -122.299           1020   \n\n       sqft_lot15  \n0            5650  \n1            7639  \n2            8062  \n3            5000  \n4            7503  \n5          101930  \n6            6819  \n7            9711  \n8            8113  \n9            7570  \n10           8925  \n11           6000  \n12          12697  \n13          10208  \n14           4850  \n15           4000  \n16          14018  \n17           4300  \n18           5095  \n19           8850  \n20           4980  \n21          20336  \n22           7005  \n23           8386  \n24           6865  \n25           4705  \n26           3573  \n27           3861  \n28           6235  \n29           6026  \n...           ...  \n21583        1173  \n21584        1415  \n21585        5399  \n21586        1249  \n21587        1497  \n21588        1118  \n21589        4571  \n21590       11063  \n21591        5641  \n21592        1224  \n21593        7980  \n21594        5988  \n21595        1282  \n21596        9421  \n21597       10125  \n21598        6500  \n21599        6814  \n21600        8964  \n21601        1253  \n21602       11303  \n21603        5731  \n21604        1230  \n21605        6023  \n21606        6200  \n21607        1265  \n21608        1509  \n21609        7200  \n21610        2007  \n21611        1287  \n21612        1357  \n\n[21613 rows x 20 columns]"
                    },
                    "execution_count": 10,
                    "metadata": {},
                    "output_type": "execute_result"
                }
            ],
            "source": "import numpy as np\nimport pandas as pd\n\ndf.drop(['id', 'Unnamed: 0'], axis=1)\n\n\n"
        },
        {
            "cell_type": "markdown",
            "metadata": {},
            "source": "We can see we have missing values for the columns <code> bedrooms</code>  and <code> bathrooms </code>"
        },
        {
            "cell_type": "code",
            "execution_count": 32,
            "metadata": {
                "jupyter": {
                    "outputs_hidden": false
                }
            },
            "outputs": [
                {
                    "name": "stdout",
                    "output_type": "stream",
                    "text": "number of NaN values for the column bedrooms : 13\nnumber of NaN values for the column bathrooms : 10\n"
                }
            ],
            "source": "print(\"number of NaN values for the column bedrooms :\", df['bedrooms'].isnull().sum())\nprint(\"number of NaN values for the column bathrooms :\", df['bathrooms'].isnull().sum())\n"
        },
        {
            "cell_type": "markdown",
            "metadata": {},
            "source": "\nWe can replace the missing values of the column <code>'bedrooms'</code> with the mean of the column  <code>'bedrooms' </code> using the method <code>replace()</code>. Don't forget to set the <code>inplace</code> parameter to <code>True</code>"
        },
        {
            "cell_type": "code",
            "execution_count": 36,
            "metadata": {},
            "outputs": [],
            "source": "mean=df['bedrooms'].mean()\ndf['bedrooms'].replace(np.nan,mean, inplace=True)"
        },
        {
            "cell_type": "markdown",
            "metadata": {},
            "source": "\nWe also replace the missing values of the column <code>'bathrooms'</code> with the mean of the column  <code>'bathrooms' </code> using the method <code>replace()</code>. Don't forget to set the <code> inplace </code>  parameter top <code> True </code>"
        },
        {
            "cell_type": "code",
            "execution_count": 38,
            "metadata": {},
            "outputs": [],
            "source": "mean=df['bathrooms'].mean()\ndf['bathrooms'].replace(np.nan,mean, inplace=True)"
        },
        {
            "cell_type": "code",
            "execution_count": 39,
            "metadata": {
                "jupyter": {
                    "outputs_hidden": false
                }
            },
            "outputs": [
                {
                    "name": "stdout",
                    "output_type": "stream",
                    "text": "number of NaN values for the column bedrooms : 0\nnumber of NaN values for the column bathrooms : 0\n"
                }
            ],
            "source": "print(\"number of NaN values for the column bedrooms :\", df['bedrooms'].isnull().sum())\nprint(\"number of NaN values for the column bathrooms :\", df['bathrooms'].isnull().sum())"
        },
        {
            "cell_type": "markdown",
            "metadata": {},
            "source": "# Module 3: Exploratory Data Analysis"
        },
        {
            "cell_type": "markdown",
            "metadata": {},
            "source": "### Question 3\nUse the method <code>value_counts</code> to count the number of houses with unique floor values, use the method <code>.to_frame()</code> to convert it to a dataframe.\n"
        },
        {
            "cell_type": "markdown",
            "metadata": {
                "jupyter": {
                    "outputs_hidden": false
                }
            },
            "source": "import numpy as np\nimport pandas as pd\n\n\ndf['floors'].value_counts()\ndf['floors'].value_counts().to_frame()\nfloors_counts = df['floors'].value_counts().to_frame()\n\nfloors_counts.head(5)\n\n"
        },
        {
            "cell_type": "markdown",
            "metadata": {},
            "source": "### Question 4\nUse the function <code>boxplot</code> in the seaborn library  to  determine whether houses with a waterfront view or without a waterfront view have more price outliers."
        },
        {
            "cell_type": "markdown",
            "metadata": {
                "jupyter": {
                    "outputs_hidden": false
                }
            },
            "source": "import matplotlib.pyplot as plt\nimport seaborn as sns\n%matplotlib inline \n\nsns.boxplot(x=\"waterfront\", y=\"price\", data=df)"
        },
        {
            "cell_type": "code",
            "execution_count": null,
            "metadata": {},
            "outputs": [],
            "source": "### Question 5\nUse the function <code>regplot</code>  in the seaborn library  to  determine if the feature <code>sqft_above</code> is negatively or positively correlated with price."
        },
        {
            "cell_type": "code",
            "execution_count": 15,
            "metadata": {
                "jupyter": {
                    "outputs_hidden": false
                }
            },
            "outputs": [
                {
                    "data": {
                        "text/plain": "<matplotlib.axes._subplots.AxesSubplot at 0x7f458cab57f0>"
                    },
                    "execution_count": 15,
                    "metadata": {},
                    "output_type": "execute_result"
                },
                {
                    "data": {
                        "image/png": "[encoded data removed]",
                        "text/plain": "<Figure size 432x288 with 1 Axes>"
                    },
                    "metadata": {
                        "needs_background": "light"
                    },
                    "output_type": "display_data"
                }
            ],
            "source": "sns.regplot(x=\"sqft_above\", y=\"price\", data=df)"
        },
        {
            "cell_type": "markdown",
            "metadata": {},
            "source": "\nWe can use the Pandas method <code>corr()</code>  to find the feature other than price that is most correlated with price."
        },
        {
            "cell_type": "code",
            "execution_count": 42,
            "metadata": {
                "jupyter": {
                    "outputs_hidden": false
                }
            },
            "outputs": [
                {
                    "data": {
                        "text/plain": "zipcode         -0.053203\nid              -0.016762\nlong             0.021626\nUnnamed: 0       0.027372\ncondition        0.036362\nyr_built         0.054012\nsqft_lot15       0.082447\nsqft_lot         0.089661\nyr_renovated     0.126434\nfloors           0.256794\nwaterfront       0.266369\nlat              0.307003\nbedrooms         0.308797\nsqft_basement    0.323816\nview             0.397293\nbathrooms        0.525738\nsqft_living15    0.585379\nsqft_above       0.605567\ngrade            0.667434\nsqft_living      0.702035\nprice            1.000000\nName: price, dtype: float64"
                    },
                    "execution_count": 42,
                    "metadata": {},
                    "output_type": "execute_result"
                }
            ],
            "source": "df.corr()['price'].sort_values()"
        },
        {
            "cell_type": "markdown",
            "metadata": {},
            "source": "# Module 4: Model Development"
        },
        {
            "cell_type": "markdown",
            "metadata": {},
            "source": "\nWe can Fit a linear regression model using the  longitude feature <code>'long'</code> and  caculate the R^2."
        },
        {
            "cell_type": "code",
            "execution_count": 51,
            "metadata": {
                "jupyter": {
                    "outputs_hidden": false
                }
            },
            "outputs": [
                {
                    "name": "stdout",
                    "output_type": "stream",
                    "text": "The R-square is:  0.00046769430149007363\n"
                }
            ],
            "source": "X = df[['long']]\nY = df['price']\nlm = LinearRegression()\nlm.fit(X,Y)\nlm.score(X, Y)\nprint('The R-square is: ', lm.score(X, Y))"
        },
        {
            "cell_type": "markdown",
            "metadata": {},
            "source": "### Question  6\nFit a linear regression model to predict the <code>'price'</code> using the feature <code>'sqft_living'</code> then calculate the R^2. Take a screenshot of your code and the value of the R^2."
        },
        {
            "cell_type": "code",
            "execution_count": 19,
            "metadata": {
                "jupyter": {
                    "outputs_hidden": false
                }
            },
            "outputs": [
                {
                    "name": "stdout",
                    "output_type": "stream",
                    "text": "The R-square is:  0.49285321790379316\n"
                }
            ],
            "source": "from sklearn.linear_model import LinearRegression\nX = df[['sqft_living']]\nY = df['price']\nlm = LinearRegression()\nlm.fit(X,Y)\nlm.score(X, Y)\n\nprint('The R-square is: ', lm.score(X, Y))"
        },
        {
            "cell_type": "markdown",
            "metadata": {},
            "source": "### Question 7\nFit a linear regression model to predict the <code>'price'</code> using the list of features:"
        },
        {
            "cell_type": "code",
            "execution_count": null,
            "metadata": {},
            "outputs": [],
            "source": "features =[\"floors\", \"waterfront\",\"lat\" ,\"bedrooms\" ,\"sqft_basement\" ,\"view\" ,\"bathrooms\",\"sqft_living15\",\"sqft_above\",\"grade\",\"sqft_living\"]     "
        },
        {
            "cell_type": "markdown",
            "metadata": {},
            "source": "Then calculate the R^2. Take a screenshot of your code."
        },
        {
            "cell_type": "code",
            "execution_count": 54,
            "metadata": {
                "jupyter": {
                    "outputs_hidden": false
                }
            },
            "outputs": [
                {
                    "name": "stdout",
                    "output_type": "stream",
                    "text": "The R-square is:  0.657679183672129\n"
                }
            ],
            "source": "from sklearn.linear_model import LinearRegression\nZ = df[[\"floors\", \"waterfront\",\"lat\" ,\"bedrooms\" ,\"sqft_basement\" ,\"view\" ,\"bathrooms\",\"sqft_living15\",\"sqft_above\",\"grade\",\"sqft_living\"]]\nY = df['price']\nlm = LinearRegression()\nlm.fit(Z,Y)\nlm.score(Z,Y)\nprint('The R-square is: ', lm.score(Z, Y))\n\n\n\n\n\n"
        },
        {
            "cell_type": "markdown",
            "metadata": {},
            "source": "### This will help with Question 8\n\nCreate a list of tuples, the first element in the tuple contains the name of the estimator:\n\n<code>'scale'</code>\n\n<code>'polynomial'</code>\n\n<code>'model'</code>\n\nThe second element in the tuple  contains the model constructor \n\n<code>StandardScaler()</code>\n\n<code>PolynomialFeatures(include_bias=False)</code>\n\n<code>LinearRegression()</code>\n"
        },
        {
            "cell_type": "code",
            "execution_count": 47,
            "metadata": {},
            "outputs": [
                {
                    "ename": "NameError",
                    "evalue": "name 'StandardScaler' is not defined",
                    "output_type": "error",
                    "traceback": [
                        "\u001b[0;31m---------------------------------------------------------------------------\u001b[0m",
                        "\u001b[0;31mNameError\u001b[0m                                 Traceback (most recent call last)",
                        "\u001b[0;32m<ipython-input-47-f67facdb6609>\u001b[0m in \u001b[0;36m<module>\u001b[0;34m\u001b[0m\n\u001b[0;32m----> 1\u001b[0;31m \u001b[0mInput\u001b[0m\u001b[0;34m=\u001b[0m\u001b[0;34m[\u001b[0m\u001b[0;34m(\u001b[0m\u001b[0;34m'scale'\u001b[0m\u001b[0;34m,\u001b[0m\u001b[0mStandardScaler\u001b[0m\u001b[0;34m(\u001b[0m\u001b[0;34m)\u001b[0m\u001b[0;34m)\u001b[0m\u001b[0;34m,\u001b[0m\u001b[0;34m(\u001b[0m\u001b[0;34m'polynomial'\u001b[0m\u001b[0;34m,\u001b[0m \u001b[0mPolynomialFeatures\u001b[0m\u001b[0;34m(\u001b[0m\u001b[0minclude_bias\u001b[0m\u001b[0;34m=\u001b[0m\u001b[0;32mFalse\u001b[0m\u001b[0;34m)\u001b[0m\u001b[0;34m)\u001b[0m\u001b[0;34m,\u001b[0m\u001b[0;34m(\u001b[0m\u001b[0;34m'model'\u001b[0m\u001b[0;34m,\u001b[0m\u001b[0mLinearRegression\u001b[0m\u001b[0;34m(\u001b[0m\u001b[0;34m)\u001b[0m\u001b[0;34m)\u001b[0m\u001b[0;34m]\u001b[0m\u001b[0;34m\u001b[0m\u001b[0;34m\u001b[0m\u001b[0m\n\u001b[0m",
                        "\u001b[0;31mNameError\u001b[0m: name 'StandardScaler' is not defined"
                    ]
                }
            ],
            "source": "Input=[('scale',StandardScaler()),('polynomial', PolynomialFeatures(include_bias=False)),('model',LinearRegression())]"
        },
        {
            "cell_type": "markdown",
            "metadata": {},
            "source": "### Question 8\nUse the list to create a pipeline object to predict the 'price', fit the object using the features in the list <code>features</code>, and calculate the R^2."
        },
        {
            "cell_type": "code",
            "execution_count": 55,
            "metadata": {
                "jupyter": {
                    "outputs_hidden": false
                }
            },
            "outputs": [
                {
                    "name": "stdout",
                    "output_type": "stream",
                    "text": "The R-square is:  0.7513408553309376\n"
                },
                {
                    "name": "stderr",
                    "output_type": "stream",
                    "text": "/opt/conda/envs/Python36/lib/python3.6/site-packages/sklearn/preprocessing/data.py:645: DataConversionWarning: Data with input dtype int64, float64 were all converted to float64 by StandardScaler.\n  return self.partial_fit(X, y)\n/opt/conda/envs/Python36/lib/python3.6/site-packages/sklearn/base.py:467: DataConversionWarning: Data with input dtype int64, float64 were all converted to float64 by StandardScaler.\n  return self.fit(X, y, **fit_params).transform(X)\n/opt/conda/envs/Python36/lib/python3.6/site-packages/sklearn/pipeline.py:511: DataConversionWarning: Data with input dtype int64, float64 were all converted to float64 by StandardScaler.\n  Xt = transform.transform(Xt)\n/opt/conda/envs/Python36/lib/python3.6/site-packages/sklearn/pipeline.py:511: DataConversionWarning: Data with input dtype int64, float64 were all converted to float64 by StandardScaler.\n  Xt = transform.transform(Xt)\n"
                }
            ],
            "source": "from sklearn.pipeline import Pipeline\nfrom sklearn.preprocessing import StandardScaler\nfrom sklearn.preprocessing import PolynomialFeatures\npr=PolynomialFeatures(degree=2)\n    \nInput = [('scale',StandardScaler()),('polynomial', PolynomialFeatures(include_bias=False)),('model',LinearRegression())]\npipe=Pipeline(Input)\npipe.fit(Z,Y)\npipe.score(Z,Y)\n\nprint('The R-square is: ', pipe.score(Z, Y))\n"
        },
        {
            "cell_type": "markdown",
            "metadata": {},
            "source": "# Module 5: Model Evaluation and Refinement"
        },
        {
            "cell_type": "markdown",
            "metadata": {},
            "source": "Import the necessary modules:"
        },
        {
            "cell_type": "code",
            "execution_count": null,
            "metadata": {
                "jupyter": {
                    "outputs_hidden": false
                }
            },
            "outputs": [],
            "source": "from sklearn.model_selection import cross_val_score\nfrom sklearn.model_selection import train_test_split\nprint(\"done\")"
        },
        {
            "cell_type": "markdown",
            "metadata": {},
            "source": "We will split the data into training and testing sets:"
        },
        {
            "cell_type": "code",
            "execution_count": 56,
            "metadata": {
                "jupyter": {
                    "outputs_hidden": false
                }
            },
            "outputs": [
                {
                    "ename": "SyntaxError",
                    "evalue": "invalid syntax (<ipython-input-56-d627efedd494>, line 1)",
                    "output_type": "error",
                    "traceback": [
                        "\u001b[0;36m  File \u001b[0;32m\"<ipython-input-56-d627efedd494>\"\u001b[0;36m, line \u001b[0;32m1\u001b[0m\n\u001b[0;31m    000000000000features =[\"floors\", \"waterfront\",\"lat\" ,\"bedrooms\" ,\"sqft_basement\" ,\"view\" ,\"bathrooms\",\"sqft_living15\",\"sqft_above\",\"grade\",\"sqft_living\"]\u001b[0m\n\u001b[0m                       ^\u001b[0m\n\u001b[0;31mSyntaxError\u001b[0m\u001b[0;31m:\u001b[0m invalid syntax\n"
                    ]
                }
            ],
            "source": "000000000000features =[\"floors\", \"waterfront\",\"lat\" ,\"bedrooms\" ,\"sqft_basement\" ,\"view\" ,\"bathrooms\",\"sqft_living15\",\"sqft_above\",\"grade\",\"sqft_living\"]    \nX = df[features]\nY = df['price']\n\nx_train, x_test, y_train, y_test = train_test_split(X, Y, test_size=0.15, random_state=1)\n000\n\nprint(\"number of test samples:\", x_test.shape[0])\nprint(\"number of training samples:\",x_train.shape[0])"
        },
        {
            "cell_type": "markdown",
            "metadata": {},
            "source": "### Question 9\nCreate and fit a Ridge regression object using the training data, set the regularization parameter to 0.1, and calculate the R^2 using the test data. \n"
        },
        {
            "cell_type": "code",
            "execution_count": null,
            "metadata": {},
            "outputs": [],
            "source": "from sklearn.linear_model import Ridge"
        },
        {
            "cell_type": "code",
            "execution_count": 63,
            "metadata": {
                "jupyter": {
                    "outputs_hidden": false
                }
            },
            "outputs": [
                {
                    "name": "stdout",
                    "output_type": "stream",
                    "text": "The R-square is:  0.741816743868634\n"
                }
            ],
            "source": "from sklearn.model_selection import cross_val_score\nfrom sklearn.model_selection import train_test_split\nfrom sklearn.linear_model import Ridge\n\nfeatures =[\"floors\", \"waterfront\",\"lat\" ,\"bedrooms\" ,\"sqft_basement\" ,\"view\" ,\"bathrooms\",\"sqft_living15\",\"sqft_above\",\"grade\",\"sqft_living\"]\nX = df[features]\nY = df['price']\n\nx_train, x_test, y_train, y_test = train_test_split(X, Y, test_size=0.15, random_state=1)\n\nx_train_pr=pr.fit_transform(x_train[[\"floors\", \"waterfront\",\"lat\" ,\"bedrooms\" ,\"sqft_basement\" ,\"view\" ,\"bathrooms\",\"sqft_living15\",\"sqft_above\",\"grade\",\"sqft_living\"]])\n\n\nRigeModel=Ridge(alpha=0.1)\nRigeModel.fit(x_train_pr, y_train)\n\n\n\nprint('The R-square is: ', RigeModel.score(x_train_pr, y_train))\n"
        },
        {
            "cell_type": "markdown",
            "metadata": {},
            "source": "### Question 10\nPerform a second order polynomial transform on both the training data and testing data. Create and fit a Ridge regression object using the training data, set the regularisation parameter to 0.1, and calculate the R^2 utilising the test data provided. Take a screenshot of your code and the R^2."
        },
        {
            "cell_type": "code",
            "execution_count": 65,
            "metadata": {
                "jupyter": {
                    "outputs_hidden": false
                }
            },
            "outputs": [
                {
                    "name": "stdout",
                    "output_type": "stream",
                    "text": "The R-square is:  0.7917109481308298\n"
                }
            ],
            "source": "from sklearn.model_selection import cross_val_score\nfrom sklearn.model_selection import train_test_split\nfrom sklearn.linear_model import Ridge\n\nfeatures =[\"floors\", \"waterfront\",\"lat\" ,\"bedrooms\" ,\"sqft_basement\" ,\"view\" ,\"bathrooms\",\"sqft_living15\",\"sqft_above\",\"grade\",\"sqft_living\"]\nX = df[features]\nY = df['price']\n\nx_train, x_test, y_train, y_test = train_test_split(X, Y, test_size=0.15, random_state=1)\n\npr=PolynomialFeatures(degree=2)\nx_train_pr=pr.fit_transform(x_train[[\"floors\", \"waterfront\",\"lat\" ,\"bedrooms\" ,\"sqft_basement\" ,\"view\" ,\"bathrooms\",\"sqft_living15\",\"sqft_above\",\"grade\",\"sqft_living\"]])\n\n\nRigeModel=Ridge(alpha=0.1)\nRigeModel.fit(x_train_pr, y_train)\n\nprint('The R-square is: ', RigeModel.score(x_train_pr, y_train))"
        },
        {
            "cell_type": "markdown",
            "metadata": {},
            "source": "<p>Once you complete your notebook you will have to share it. Select the icon on the top right a marked in red in the image below, a dialogue box should open, and select the option all&nbsp;content excluding sensitive code cells.</p>\n        <p><img width=\"600\" src=\"https://s3-api.us-geo.objectstorage.softlayer.net/cf-courses-data/CognitiveClass/DA0101EN/coursera/project/save_notebook.png\" alt=\"share notebook\"  style=\"display: block; margin-left: auto; margin-right: auto;\"/></p>\n        <p></p>\n        <p>You can then share the notebook&nbsp; via a&nbsp; URL by scrolling down as shown in the following image:</p>\n        <p style=\"text-align: center;\"><img width=\"600\"  src=\"https://s3-api.us-geo.objectstorage.softlayer.net/cf-courses-data/CognitiveClass/DA0101EN/coursera/project/url_notebook.png\" alt=\"HTML\" style=\"display: block; margin-left: auto; margin-right: auto;\" /></p>\n        <p>&nbsp;</p>"
        },
        {
            "cell_type": "markdown",
            "metadata": {},
            "source": "<h2>About the Authors:</h2> \n\n<a href=\"https://www.linkedin.com/in/joseph-s-50398b136/\">Joseph Santarcangelo</a> has a PhD in Electrical Engineering, his research focused on using machine learning, signal processing, and computer vision to determine how videos impact human cognition. Joseph has been working for IBM since he completed his PhD."
        },
        {
            "cell_type": "markdown",
            "metadata": {},
            "source": "Other contributors: <a href=\"https://www.linkedin.com/in/michelleccarey/\">Michelle Carey</a>, <a href=\"www.linkedin.com/in/jiahui-mavis-zhou-a4537814a\">Mavis Zhou</a> "
        },
        {
            "cell_type": "code",
            "execution_count": null,
            "metadata": {},
            "outputs": [],
            "source": ""
        }
    ],
    "metadata": {
        "kernelspec": {
            "display_name": "Python 3.6",
            "language": "python",
            "name": "python3"
        },
        "language_info": {
            "codemirror_mode": {
                "name": "ipython",
                "version": 3
            },
            "file_extension": ".py",
            "mimetype": "text/x-python",
            "name": "python",
            "nbconvert_exporter": "python",
            "pygments_lexer": "ipython3",
            "version": "3.6.9"
        },
        "widgets": {
            "state": {},
            "version": "1.1.2"
        }
    },
    "nbformat": 4,
    "nbformat_minor": 4
}